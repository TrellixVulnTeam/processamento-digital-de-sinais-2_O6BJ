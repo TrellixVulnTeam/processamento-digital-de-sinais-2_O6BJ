{
 "metadata": {
  "language_info": {
   "codemirror_mode": {
    "name": "ipython",
    "version": 3
   },
   "file_extension": ".py",
   "mimetype": "text/x-python",
   "name": "python",
   "nbconvert_exporter": "python",
   "pygments_lexer": "ipython3",
   "version": 3
  },
  "orig_nbformat": 2
 },
 "nbformat": 4,
 "nbformat_minor": 2,
 "cells": [
  {
   "source": [
    "Considere as seguintes EDCC que representam sistemas com os seguintes coeficientes:\n",
    "\n",
    "b = 0.0053 0.0159 0.0159 0.0053 a = 1.0000\n",
    "\n",
    "b = 0.0210 0.0632 0.0632 0.0210 a = 1.0000 -1.8663 1.4986 -0.4636\n",
    "\n",
    "b = 0.1589 0.4029 0.4029 0.1589 a = 1.0000 -0.3082 0.6290 -0.1970\n",
    "\n",
    "a) plote no mesmo gráfico, a resposta em frequência de cada um desses sistemas.\n",
    "\n",
    "b) plote no mesmo gráfico, os polos e zeros de cada um desses sistemas.\n",
    "\n",
    "c) Informe que tipo de filtragem cada um deles realiza\n",
    "\n",
    "d) Calcule a frequência de corte de cada um deles."
   ],
   "cell_type": "markdown",
   "metadata": {}
  }
 ]
}